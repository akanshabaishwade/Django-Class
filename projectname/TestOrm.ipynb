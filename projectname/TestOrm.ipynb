{
 "cells": [
  {
   "cell_type": "code",
   "execution_count": null,
   "metadata": {},
   "outputs": [],
   "source": [
    "!pip install django notebook"
   ]
  },
  {
   "cell_type": "code",
   "execution_count": 3,
   "metadata": {},
   "outputs": [],
   "source": [
    "import os\n",
    "import django\n",
    "\n",
    "# Set the DJANGO_SETTINGS_MODULE environment variable to your project's settings\n",
    "os.environ.setdefault('DJANGO_SETTINGS_MODULE', 'projectname.settings')\n",
    "\n",
    "# Setup Django\n",
    "django.setup()"
   ]
  },
  {
   "cell_type": "code",
   "execution_count": null,
   "metadata": {},
   "outputs": [],
   "source": [
    "python manage.py shell"
   ]
  },
  {
   "cell_type": "code",
   "execution_count": 13,
   "metadata": {},
   "outputs": [
    {
     "name": "stdout",
     "output_type": "stream",
     "text": [
      "<bound method BaseManager.all of <django.db.models.manager.Manager object at 0x7128858c3e20>>\n"
     ]
    }
   ],
   "source": [
    "from appname.models import *\n",
    "print(Student.objects.all)"
   ]
  },
  {
   "cell_type": "code",
   "execution_count": null,
   "metadata": {},
   "outputs": [],
   "source": [
    "model_names = ModelName.objects.all()\n",
    "print(model_names)"
   ]
  },
  {
   "cell_type": "code",
   "execution_count": null,
   "metadata": {},
   "outputs": [],
   "source": [
    "model_names = ModelName.objects.all().first()\n"
   ]
  },
  {
   "cell_type": "code",
   "execution_count": null,
   "metadata": {},
   "outputs": [],
   "source": [
    "# Create new instances\n",
    "student = Student.objects.create(first_name='Alice', last_name='Smith', age=20, date_of_birth='2022-06-01')\n",
    "model_name = ModelName.objects.create(field1='Sample Field 1', field2='Sample Field 2')\n"
   ]
  },
  {
   "cell_type": "code",
   "execution_count": null,
   "metadata": {},
   "outputs": [],
   "source": [
    "# Fetch and print all instances\n",
    "students = Student.objects.all()\n",
    "model_names = ModelName.objects.all()\n",
    "print(students)\n",
    "print(model_names)\n"
   ]
  },
  {
   "cell_type": "code",
   "execution_count": null,
   "metadata": {},
   "outputs": [],
   "source": [
    "# Filtering\n",
    "students_under_21 = Student.objects.filter(age__lt=21) # __lt = less than\n",
    "print(\"Students under 21:\", students_under_21)\n"
   ]
  },
  {
   "cell_type": "code",
   "execution_count": null,
   "metadata": {},
   "outputs": [],
   "source": [
    "# Get a specific record\n",
    "student_alice = Student.objects.get(first_name='Alice')\n",
    "print(\"Student named Alice:\", student_alice)\n"
   ]
  },
  {
   "cell_type": "code",
   "execution_count": null,
   "metadata": {},
   "outputs": [],
   "source": [
    "# Updating a record\n",
    "student_alice.age = 21\n",
    "student_alice.save()\n",
    "print(\"Updated student:\", Student.objects.get(first_name='Alice'))\n"
   ]
  },
  {
   "cell_type": "code",
   "execution_count": null,
   "metadata": {},
   "outputs": [],
   "source": [
    "# Deleting a record\n",
    "student_alice.delete()\n",
    "print(\"All students after deletion:\", Student.objects.all())"
   ]
  }
 ],
 "metadata": {
  "kernelspec": {
   "display_name": "Python 3",
   "language": "python",
   "name": "python3"
  },
  "language_info": {
   "codemirror_mode": {
    "name": "ipython",
    "version": 3
   },
   "file_extension": ".py",
   "mimetype": "text/x-python",
   "name": "python",
   "nbconvert_exporter": "python",
   "pygments_lexer": "ipython3",
   "version": "3.10.12"
  }
 },
 "nbformat": 4,
 "nbformat_minor": 2
}
